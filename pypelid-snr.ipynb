{
 "cells": [
  {
   "cell_type": "markdown",
   "metadata": {},
   "source": [
    "# Pypelid Calculator\n",
    "\n",
    "Estimate the signal-to-noise of emission line galaxy spectra"
   ]
  },
  {
   "cell_type": "code",
   "execution_count": 1,
   "metadata": {
    "scrolled": false
   },
   "outputs": [
    {
     "data": {
      "application/vnd.jupyter.widget-view+json": {
       "model_id": "b96b4b89b0fe4d27bef5fb435dae4d6c",
       "version_major": 2,
       "version_minor": 0
      },
      "text/plain": [
       "HTML(value=u'Pypelidcalc version: 61eaf38')"
      ]
     },
     "metadata": {},
     "output_type": "display_data"
    },
    {
     "data": {
      "application/vnd.jupyter.widget-view+json": {
       "model_id": "5b3e8bc859334716a0bae70e5ac60ed7",
       "version_major": 2,
       "version_minor": 0
      },
      "text/plain": [
       "VGFiKGNoaWxkcmVuPShWQm94KGNoaWxkcmVuPShCb3VuZGVkRmxvYXRUZXh0KHZhbHVlPTEuMCwgZGVzY3JpcHRpb249dSdSZWRzaGlmdCcsIGxheW91dD1MYXlvdXQod2lkdGg9dSczMDBweCfigKY=\n"
      ]
     },
     "metadata": {},
     "output_type": "display_data"
    },
    {
     "data": {
      "application/vnd.jupyter.widget-view+json": {
       "model_id": "c6602eafd20046088df844174724e5d0",
       "version_major": 2,
       "version_minor": 0
      },
      "text/plain": [
       "SEJveChjaGlsZHJlbj0oQnV0dG9uKGRlc2NyaXB0aW9uPXUnQ29tcHV0ZScsIGljb249dSdwbGF5Jywgc3R5bGU9QnV0dG9uU3R5bGUoKSksIEludFByb2dyZXNzKHZhbHVlPTAsIGJhcl9zdHnigKY=\n"
      ]
     },
     "metadata": {},
     "output_type": "display_data"
    },
    {
     "data": {
      "application/vnd.jupyter.widget-view+json": {
       "model_id": "13e3de216cf743c0ae7ebe29aeaa4886",
       "version_major": 2,
       "version_minor": 0
      },
      "text/plain": [
       "Output(layout=Layout(width=u'1000px'))"
      ]
     },
     "metadata": {},
     "output_type": "display_data"
    }
   ],
   "source": [
    "from pypelidcalc import widget\n",
    "widget.PypelidWidget().show()"
   ]
  },
  {
   "cell_type": "code",
   "execution_count": null,
   "metadata": {},
   "outputs": [],
   "source": []
  }
 ],
 "metadata": {
  "kernelspec": {
   "display_name": "Python 2",
   "language": "python",
   "name": "python2"
  },
  "language_info": {
   "codemirror_mode": {
    "name": "ipython",
    "version": 2
   },
   "file_extension": ".py",
   "mimetype": "text/x-python",
   "name": "python",
   "nbconvert_exporter": "python",
   "pygments_lexer": "ipython2",
   "version": "2.7.13"
  },
  "widgets": {
   "state": {},
   "version": "1.1.2"
  }
 },
 "nbformat": 4,
 "nbformat_minor": 2
}
