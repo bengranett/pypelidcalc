{
 "cells": [
  {
   "cell_type": "markdown",
   "metadata": {},
   "source": [
    "# Pypelid Calculator"
   ]
  },
  {
   "cell_type": "code",
   "execution_count": 1,
   "metadata": {
    "scrolled": false
   },
   "outputs": [
    {
     "data": {
      "application/vnd.jupyter.widget-view+json": {
       "model_id": "a10e6435b5a746599bc5718274eae7d5",
       "version_major": 2,
       "version_minor": 0
      },
      "text/plain": [
       "VGFiKGNoaWxkcmVuPShWQm94KGNoaWxkcmVuPShCb3VuZGVkRmxvYXRUZXh0KHZhbHVlPTEuMCwgZGVzY3JpcHRpb249dSdSZWRzaGlmdCcsIGxheW91dD1MYXlvdXQod2lkdGg9dSczMDBweCfigKY=\n"
      ]
     },
     "metadata": {},
     "output_type": "display_data"
    },
    {
     "data": {
      "application/vnd.jupyter.widget-view+json": {
       "model_id": "317d4ff7111344c8a32a9082c824ae8a",
       "version_major": 2,
       "version_minor": 0
      },
      "text/plain": [
       "HTML(value=u'<h3>Spectrum</h3>')"
      ]
     },
     "metadata": {},
     "output_type": "display_data"
    },
    {
     "data": {
      "application/vnd.jupyter.widget-view+json": {
       "model_id": "3bd6c8c831ff479aa13fb2cf35373506",
       "version_major": 2,
       "version_minor": 0
      },
      "text/plain": [
       "SEJveChjaGlsZHJlbj0oSFRNTCh2YWx1ZT11J1NOUjonKSwgTGFiZWwodmFsdWU9dScnLCBsYXlvdXQ9TGF5b3V0KGJvcmRlcj11J3NvbGlkIDFweCBncmVlbicsIHdpZHRoPXUnMTAwcHgnKSnigKY=\n"
      ]
     },
     "metadata": {},
     "output_type": "display_data"
    },
    {
     "data": {
      "application/vnd.jupyter.widget-view+json": {
       "model_id": "e7d55d738cab431ab814fb3e8c36d68f",
       "version_major": 2,
       "version_minor": 0
      },
      "text/plain": [
       "SEJveChjaGlsZHJlbj0oRmlndXJlV2lkZ2V0KHsKICAgICdkYXRhJzogW3snbGluZSc6IHsnY29sb3InOiAnZ3JleSd9LAogICAgICAgICAgICAgICduYW1lJzogJ05vaXNlJywKICAgICAgICDigKY=\n"
      ]
     },
     "metadata": {},
     "output_type": "display_data"
    },
    {
     "data": {
      "application/vnd.jupyter.widget-view+json": {
       "model_id": "3ce928f5a9794848bb308bf90c155f49",
       "version_major": 2,
       "version_minor": 0
      },
      "text/plain": [
       "VkJveChjaGlsZHJlbj0oSFRNTCh2YWx1ZT11JzxoMz5SZWRzaGlmdCBtZWFzdXJlbWVudDwvaDM+JyksIEhCb3goY2hpbGRyZW49KEJvdW5kZWRJbnRUZXh0KHZhbHVlPTEwMDAsIGRlc2NyaXDigKY=\n"
      ]
     },
     "metadata": {},
     "output_type": "display_data"
    },
    {
     "data": {
      "application/vnd.jupyter.widget-view+json": {
       "model_id": "b5973d1d65bc4fe6905289b5e1c3bc0d",
       "version_major": 2,
       "version_minor": 0
      },
      "text/plain": [
       "RmlndXJlV2lkZ2V0KHsKICAgICdkYXRhJzogW3snbmFtZSc6ICdNZWFzdXJlZCByZWRzaGlmdCcsCiAgICAgICAgICAgICAgJ3R5cGUnOiAnc2NhdHRlcicsCiAgICAgICAgICAgICAgJ3VpZCfigKY=\n"
      ]
     },
     "metadata": {},
     "output_type": "display_data"
    }
   ],
   "source": [
    "from pypelidcalc import widget\n",
    "W=widget.PypelidWidget()\n",
    "W.show()"
   ]
  },
  {
   "cell_type": "code",
   "execution_count": null,
   "metadata": {},
   "outputs": [],
   "source": []
  }
 ],
 "metadata": {
  "kernelspec": {
   "display_name": "Python 2",
   "language": "python",
   "name": "python2"
  },
  "language_info": {
   "codemirror_mode": {
    "name": "ipython",
    "version": 2
   },
   "file_extension": ".py",
   "mimetype": "text/x-python",
   "name": "python",
   "nbconvert_exporter": "python",
   "pygments_lexer": "ipython2",
   "version": "2.7.13"
  },
  "widgets": {
   "state": {},
   "version": "1.1.2"
  }
 },
 "nbformat": 4,
 "nbformat_minor": 2
}
